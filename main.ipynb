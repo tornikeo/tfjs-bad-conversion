{
 "cells": [
  {
   "cell_type": "code",
   "execution_count": 1,
   "metadata": {},
   "outputs": [],
   "source": [
    "# !pip install pandas numpy tensorflow tensorflowjs\n",
    "\n",
    "import pandas as pd\n",
    "import numpy as np\n",
    "import tensorflow as tf\n",
    "import tensorflow.keras as keras\n",
    "import json\n"
   ]
  },
  {
   "cell_type": "code",
   "execution_count": 2,
   "metadata": {},
   "outputs": [],
   "source": [
    "# \"LookUp -> Normalization -> Prediction\" -> TFJS\n",
    "# \"LookUp\" call this a str_encoder \"model\" ('strings' -> target encode)\n",
    "# \"Normalization -> Prediction\" Model ('numbers ' -> )"
   ]
  },
  {
   "cell_type": "code",
   "execution_count": 3,
   "metadata": {},
   "outputs": [],
   "source": [
    "\n",
    "\n",
    "class TargetEncoding(keras.layers.Layer):\n",
    "    def __init__(self, **kwargs):\n",
    "        super().__init__(**kwargs) # Boilerplate\n",
    "        \n",
    "    def call(self, inputs):\n",
    "#         return self.norm(self.table.lookup(inputs))\n",
    "        return self.table.lookup(inputs)\n",
    "    \n",
    "    def compute_output_shape(self, input_shape):\n",
    "        return input_shape\n",
    "    \n",
    "#     def compute_output_signature()\n",
    "    def adapt(self, feature, target, \n",
    "              mean, var, default_value=-1):\n",
    "        self.feature_name = feature.name\n",
    "        self.keys = tf.constant(feature)\n",
    "        self.target = tf.constant(target)\n",
    "        self.table = tf.lookup.StaticHashTable(\n",
    "            tf.lookup.KeyValueTensorInitializer(self.keys,self.target),\n",
    "            default_value=default_value)\n",
    "    def to_dict(self):\n",
    "        d = {k:v for k,v in zip(self.keys, self.target)}\n",
    "        return d\n",
    "#         for k,v in zip(self.keys, self.target):\n",
    "#             d[k] = v\n",
    "        \n",
    "    \n",
    "#         self.norm = layers.Normalization(axis=None, \n",
    "#                                          mean=mean,\n",
    "#                                          variance=var)"
   ]
  },
  {
   "cell_type": "code",
   "execution_count": 4,
   "metadata": {},
   "outputs": [
    {
     "data": {
      "text/html": [
       "<div>\n",
       "<style scoped>\n",
       "    .dataframe tbody tr th:only-of-type {\n",
       "        vertical-align: middle;\n",
       "    }\n",
       "\n",
       "    .dataframe tbody tr th {\n",
       "        vertical-align: top;\n",
       "    }\n",
       "\n",
       "    .dataframe thead th {\n",
       "        text-align: right;\n",
       "    }\n",
       "</style>\n",
       "<table border=\"1\" class=\"dataframe\">\n",
       "  <thead>\n",
       "    <tr style=\"text-align: right;\">\n",
       "      <th></th>\n",
       "      <th>Target</th>\n",
       "      <th>Feature</th>\n",
       "      <th>NumFeature</th>\n",
       "    </tr>\n",
       "  </thead>\n",
       "  <tbody>\n",
       "    <tr>\n",
       "      <th>0</th>\n",
       "      <td>0.266143</td>\n",
       "      <td>Class A</td>\n",
       "      <td>-0.098598</td>\n",
       "    </tr>\n",
       "    <tr>\n",
       "      <th>1</th>\n",
       "      <td>0.218707</td>\n",
       "      <td>Class A</td>\n",
       "      <td>0.598085</td>\n",
       "    </tr>\n",
       "    <tr>\n",
       "      <th>2</th>\n",
       "      <td>0.135895</td>\n",
       "      <td>Class A</td>\n",
       "      <td>0.529328</td>\n",
       "    </tr>\n",
       "    <tr>\n",
       "      <th>3</th>\n",
       "      <td>-0.979208</td>\n",
       "      <td>Class A</td>\n",
       "      <td>-0.032673</td>\n",
       "    </tr>\n",
       "    <tr>\n",
       "      <th>4</th>\n",
       "      <td>-1.120905</td>\n",
       "      <td>Class A</td>\n",
       "      <td>1.639194</td>\n",
       "    </tr>\n",
       "    <tr>\n",
       "      <th>...</th>\n",
       "      <td>...</td>\n",
       "      <td>...</td>\n",
       "      <td>...</td>\n",
       "    </tr>\n",
       "    <tr>\n",
       "      <th>95</th>\n",
       "      <td>0.188529</td>\n",
       "      <td>Class C</td>\n",
       "      <td>-0.088189</td>\n",
       "    </tr>\n",
       "    <tr>\n",
       "      <th>96</th>\n",
       "      <td>-0.069587</td>\n",
       "      <td>Class C</td>\n",
       "      <td>-1.193713</td>\n",
       "    </tr>\n",
       "    <tr>\n",
       "      <th>97</th>\n",
       "      <td>-0.854548</td>\n",
       "      <td>Class C</td>\n",
       "      <td>-0.127421</td>\n",
       "    </tr>\n",
       "    <tr>\n",
       "      <th>98</th>\n",
       "      <td>-0.388919</td>\n",
       "      <td>Class C</td>\n",
       "      <td>1.639334</td>\n",
       "    </tr>\n",
       "    <tr>\n",
       "      <th>99</th>\n",
       "      <td>-0.154939</td>\n",
       "      <td>Class C</td>\n",
       "      <td>-0.401422</td>\n",
       "    </tr>\n",
       "  </tbody>\n",
       "</table>\n",
       "<p>100 rows × 3 columns</p>\n",
       "</div>"
      ],
      "text/plain": [
       "      Target  Feature  NumFeature\n",
       "0   0.266143  Class A   -0.098598\n",
       "1   0.218707  Class A    0.598085\n",
       "2   0.135895  Class A    0.529328\n",
       "3  -0.979208  Class A   -0.032673\n",
       "4  -1.120905  Class A    1.639194\n",
       "..       ...      ...         ...\n",
       "95  0.188529  Class C   -0.088189\n",
       "96 -0.069587  Class C   -1.193713\n",
       "97 -0.854548  Class C   -0.127421\n",
       "98 -0.388919  Class C    1.639334\n",
       "99 -0.154939  Class C   -0.401422\n",
       "\n",
       "[100 rows x 3 columns]"
      ]
     },
     "execution_count": 4,
     "metadata": {},
     "output_type": "execute_result"
    }
   ],
   "source": [
    "data = pd.DataFrame()\n",
    "data['Target'] = np.random.normal(0,1,(100,))\n",
    "data['Feature'] = [\"Class A\"] * 30 + [\"Class B\"] * 20 \\\n",
    "    + [\"Class C\"] * 50\n",
    "data['NumFeature'] = np.random.normal(0,1,(100,))\n",
    "data"
   ]
  },
  {
   "cell_type": "code",
   "execution_count": 5,
   "metadata": {},
   "outputs": [
    {
     "name": "stderr",
     "output_type": "stream",
     "text": [
      "2022-05-22 21:51:15.085830: I tensorflow/stream_executor/cuda/cuda_gpu_executor.cc:975] successful NUMA node read from SysFS had negative value (-1), but there must be at least one NUMA node, so returning NUMA node zero\n",
      "2022-05-22 21:51:15.158111: I tensorflow/stream_executor/cuda/cuda_gpu_executor.cc:975] successful NUMA node read from SysFS had negative value (-1), but there must be at least one NUMA node, so returning NUMA node zero\n",
      "2022-05-22 21:51:15.158331: I tensorflow/stream_executor/cuda/cuda_gpu_executor.cc:975] successful NUMA node read from SysFS had negative value (-1), but there must be at least one NUMA node, so returning NUMA node zero\n",
      "2022-05-22 21:51:15.159237: I tensorflow/core/platform/cpu_feature_guard.cc:193] This TensorFlow binary is optimized with oneAPI Deep Neural Network Library (oneDNN) to use the following CPU instructions in performance-critical operations:  AVX2 FMA\n",
      "To enable them in other operations, rebuild TensorFlow with the appropriate compiler flags.\n",
      "2022-05-22 21:51:15.160423: I tensorflow/stream_executor/cuda/cuda_gpu_executor.cc:975] successful NUMA node read from SysFS had negative value (-1), but there must be at least one NUMA node, so returning NUMA node zero\n",
      "2022-05-22 21:51:15.160832: I tensorflow/stream_executor/cuda/cuda_gpu_executor.cc:975] successful NUMA node read from SysFS had negative value (-1), but there must be at least one NUMA node, so returning NUMA node zero\n",
      "2022-05-22 21:51:15.161103: I tensorflow/stream_executor/cuda/cuda_gpu_executor.cc:975] successful NUMA node read from SysFS had negative value (-1), but there must be at least one NUMA node, so returning NUMA node zero\n",
      "2022-05-22 21:51:16.053242: I tensorflow/stream_executor/cuda/cuda_gpu_executor.cc:975] successful NUMA node read from SysFS had negative value (-1), but there must be at least one NUMA node, so returning NUMA node zero\n",
      "2022-05-22 21:51:16.053611: I tensorflow/stream_executor/cuda/cuda_gpu_executor.cc:975] successful NUMA node read from SysFS had negative value (-1), but there must be at least one NUMA node, so returning NUMA node zero\n",
      "2022-05-22 21:51:16.053796: I tensorflow/stream_executor/cuda/cuda_gpu_executor.cc:975] successful NUMA node read from SysFS had negative value (-1), but there must be at least one NUMA node, so returning NUMA node zero\n",
      "2022-05-22 21:51:16.053971: I tensorflow/core/common_runtime/gpu/gpu_device.cc:1532] Created device /job:localhost/replica:0/task:0/device:GPU:0 with 6480 MB memory:  -> device: 0, name: NVIDIA GeForce RTX 2070 with Max-Q Design, pci bus id: 0000:01:00.0, compute capability: 7.5\n"
     ]
    }
   ],
   "source": [
    "gr = data.groupby('Feature')['Target'].mean()\n",
    "targ_enc = TargetEncoding()\n",
    "targ_enc.adapt(\n",
    "    feature=gr.index,\n",
    "    target=gr.values,\n",
    "    mean=data.Target.mean(),\n",
    "    var=data.Target.var(),\n",
    "    default_value=data.Target.median(),\n",
    ")"
   ]
  },
  {
   "cell_type": "code",
   "execution_count": 6,
   "metadata": {},
   "outputs": [],
   "source": [
    "x,y = data[[\"Feature\",\"NumFeature\"]], data['Target']\n",
    "x = {k:tf.constant(x[k]) for k in x.columns}"
   ]
  },
  {
   "cell_type": "code",
   "execution_count": 7,
   "metadata": {
    "scrolled": false
   },
   "outputs": [
    {
     "name": "stdout",
     "output_type": "stream",
     "text": [
      "4/4 [==============================] - 0s 2ms/step\n"
     ]
    }
   ],
   "source": [
    "# Make encoder \"model\" that only transforms\n",
    "# string inputs into floats and passes everything \n",
    "# numeric unchanged.\n",
    "inputs = {\n",
    "    'Feature': keras.Input(shape=(1,), dtype=tf.string, name=\"Feature\"),\n",
    "    'NumFeature': keras.Input(shape=(1,), dtype=tf.float32, name=\"NumFeature\")\n",
    "}\n",
    "\n",
    "inputs_str_enc = {\n",
    "    'Feature': targ_enc(inputs['Feature']),\n",
    "    \"NumFeature\": inputs['NumFeature'],\n",
    "}\n",
    "\n",
    "encoder = keras.Model(inputs = inputs, \n",
    "                          outputs = inputs_str_enc)\n",
    "x_encoded = encoder.predict(x)"
   ]
  },
  {
   "cell_type": "code",
   "execution_count": 7,
   "metadata": {},
   "outputs": [
    {
     "name": "stdout",
     "output_type": "stream",
     "text": [
      "Feature\n",
      "NumFeature\n"
     ]
    },
    {
     "data": {
      "text/plain": [
       "<tf.Tensor: shape=(5, 1), dtype=float32, numpy=\n",
       "array([[1.080482 ],\n",
       "       [1.0553811],\n",
       "       [1.0507214],\n",
       "       [1.1013936],\n",
       "       [1.0881029]], dtype=float32)>"
      ]
     },
     "execution_count": 7,
     "metadata": {},
     "output_type": "execute_result"
    }
   ],
   "source": [
    "# Make model with only numeric inputs\n",
    "num_inputs = {\n",
    "    k:keras.Input((1,), dtype=tf.float32, name=v.name)\n",
    "    for k,v in inputs.items()\n",
    "}\n",
    "\n",
    "norm_inputs = []\n",
    "for k,v in x_encoded.items():\n",
    "    norm = keras.layers.Normalization()\n",
    "    norm.adapt(v)\n",
    "    norm_inputs.append(norm(num_inputs[k]))\n",
    "    print(k)\n",
    "    \n",
    "conc = keras.layers.Concatenate()(norm_inputs) # TODO: Check this!\n",
    "outputs = {\n",
    "    'Target':keras.layers.Dense(1)(conc)\n",
    "}\n",
    "model = keras.Model(inputs=num_inputs, outputs=outputs)\n",
    "model(x_encoded)['Target'][:5]"
   ]
  },
  {
   "cell_type": "code",
   "execution_count": 8,
   "metadata": {},
   "outputs": [
    {
     "name": "stderr",
     "output_type": "stream",
     "text": [
      "WARNING:absl:Function `_wrapped_model` contains input name(s) Feature, NumFeature with unsupported characters which will be renamed to feature, numfeature in the SavedModel.\n"
     ]
    },
    {
     "name": "stdout",
     "output_type": "stream",
     "text": [
      "INFO:tensorflow:Assets written to: models/tf_model/prediction/assets\n"
     ]
    },
    {
     "name": "stderr",
     "output_type": "stream",
     "text": [
      "INFO:tensorflow:Assets written to: models/tf_model/prediction/assets\n",
      "WARNING:absl:Function `_wrapped_model` contains input name(s) Feature, NumFeature with unsupported characters which will be renamed to feature, numfeature in the SavedModel.\n"
     ]
    },
    {
     "name": "stdout",
     "output_type": "stream",
     "text": [
      "INFO:tensorflow:Assets written to: models/tf_model/encoder/assets\n"
     ]
    },
    {
     "name": "stderr",
     "output_type": "stream",
     "text": [
      "INFO:tensorflow:Assets written to: models/tf_model/encoder/assets\n"
     ]
    }
   ],
   "source": [
    "tf.saved_model.save(model, 'models/tf_model/prediction')\n",
    "tf.saved_model.save(encoder, 'models/tf_model/encoder')"
   ]
  },
  {
   "cell_type": "code",
   "execution_count": 10,
   "metadata": {},
   "outputs": [
    {
     "name": "stdout",
     "output_type": "stream",
     "text": [
      "Feature -> Feature encoded\n",
      "{'Class A': 0.07614372724174703, 'Class B': 0.08330041774579192, 'Class C': 0.29269168665438516}\n"
     ]
    }
   ],
   "source": [
    "agg = {}\n",
    "assert x.keys() == x_encoded.keys()\n",
    "for (sk,sv),(ek,ev) in zip(x.items(),x_encoded.items()):\n",
    "    if sv.dtype == 'string': # We know encoder only works on strings\n",
    "        print(sk, '->', ek, 'encoded')\n",
    "        sv = pd.Series(np.array(sv), name='In')\n",
    "        ev = np.squeeze(np.array(ev))\n",
    "        assert np.ndim(ev) == 1\n",
    "        ev = pd.Series(np.array(ev), name='Out')\n",
    "        tmp = pd.concat([sv,ev],axis=1)\n",
    "        tmp = tmp.groupby('In')['Out'].first().to_dict()\n",
    "        tmp = {k.decode('utf-8'):v for k,v in tmp.items()} # Remove *b*'...' \n",
    "        print(tmp)\n",
    "        agg[sk] = [tmp, targ_enc.table.default_value.numpy()]\n",
    "    "
   ]
  },
  {
   "cell_type": "code",
   "execution_count": 11,
   "metadata": {},
   "outputs": [
    {
     "data": {
      "text/plain": [
       "{'Feature': [{'Class A': 0.07614372724174703,\n",
       "   'Class B': 0.08330041774579192,\n",
       "   'Class C': 0.29269168665438516},\n",
       "  0.22657014915515206]}"
      ]
     },
     "execution_count": 11,
     "metadata": {},
     "output_type": "execute_result"
    }
   ],
   "source": [
    "agg"
   ]
  },
  {
   "cell_type": "code",
   "execution_count": 12,
   "metadata": {},
   "outputs": [
    {
     "name": "stdout",
     "output_type": "stream",
     "text": [
      "2022-05-22 00:31:52.519772: I tensorflow/stream_executor/cuda/cuda_gpu_executor.cc:975] successful NUMA node read from SysFS had negative value (-1), but there must be at least one NUMA node, so returning NUMA node zero\n",
      "2022-05-22 00:31:52.549289: I tensorflow/stream_executor/cuda/cuda_gpu_executor.cc:975] successful NUMA node read from SysFS had negative value (-1), but there must be at least one NUMA node, so returning NUMA node zero\n",
      "2022-05-22 00:31:52.549468: I tensorflow/stream_executor/cuda/cuda_gpu_executor.cc:975] successful NUMA node read from SysFS had negative value (-1), but there must be at least one NUMA node, so returning NUMA node zero\n",
      "2022-05-22 00:31:52.549768: I tensorflow/core/platform/cpu_feature_guard.cc:193] This TensorFlow binary is optimized with oneAPI Deep Neural Network Library (oneDNN) to use the following CPU instructions in performance-critical operations:  AVX2 FMA\n",
      "To enable them in other operations, rebuild TensorFlow with the appropriate compiler flags.\n",
      "2022-05-22 00:31:52.550345: I tensorflow/stream_executor/cuda/cuda_gpu_executor.cc:975] successful NUMA node read from SysFS had negative value (-1), but there must be at least one NUMA node, so returning NUMA node zero\n",
      "2022-05-22 00:31:52.550487: I tensorflow/stream_executor/cuda/cuda_gpu_executor.cc:975] successful NUMA node read from SysFS had negative value (-1), but there must be at least one NUMA node, so returning NUMA node zero\n",
      "2022-05-22 00:31:52.550608: I tensorflow/stream_executor/cuda/cuda_gpu_executor.cc:975] successful NUMA node read from SysFS had negative value (-1), but there must be at least one NUMA node, so returning NUMA node zero\n",
      "2022-05-22 00:31:52.930048: I tensorflow/stream_executor/cuda/cuda_gpu_executor.cc:975] successful NUMA node read from SysFS had negative value (-1), but there must be at least one NUMA node, so returning NUMA node zero\n",
      "2022-05-22 00:31:52.930222: I tensorflow/stream_executor/cuda/cuda_gpu_executor.cc:975] successful NUMA node read from SysFS had negative value (-1), but there must be at least one NUMA node, so returning NUMA node zero\n",
      "2022-05-22 00:31:52.930377: I tensorflow/stream_executor/cuda/cuda_gpu_executor.cc:975] successful NUMA node read from SysFS had negative value (-1), but there must be at least one NUMA node, so returning NUMA node zero\n",
      "2022-05-22 00:31:52.930491: I tensorflow/core/common_runtime/gpu/gpu_device.cc:1532] Created device /job:localhost/replica:0/task:0/device:GPU:0 with 346 MB memory:  -> device: 0, name: NVIDIA GeForce RTX 2070 with Max-Q Design, pci bus id: 0000:01:00.0, compute capability: 7.5\n",
      "2022-05-22 00:31:53.063949: I tensorflow/stream_executor/cuda/cuda_gpu_executor.cc:975] successful NUMA node read from SysFS had negative value (-1), but there must be at least one NUMA node, so returning NUMA node zero\n",
      "2022-05-22 00:31:53.064073: I tensorflow/core/grappler/devices.cc:66] Number of eligible GPUs (core count >= 8, compute capability >= 0.0): 1\n",
      "2022-05-22 00:31:53.064170: I tensorflow/core/grappler/clusters/single_machine.cc:358] Starting new session\n",
      "2022-05-22 00:31:53.064401: I tensorflow/stream_executor/cuda/cuda_gpu_executor.cc:975] successful NUMA node read from SysFS had negative value (-1), but there must be at least one NUMA node, so returning NUMA node zero\n",
      "2022-05-22 00:31:53.064537: I tensorflow/stream_executor/cuda/cuda_gpu_executor.cc:975] successful NUMA node read from SysFS had negative value (-1), but there must be at least one NUMA node, so returning NUMA node zero\n",
      "2022-05-22 00:31:53.064658: I tensorflow/stream_executor/cuda/cuda_gpu_executor.cc:975] successful NUMA node read from SysFS had negative value (-1), but there must be at least one NUMA node, so returning NUMA node zero\n",
      "2022-05-22 00:31:53.064809: I tensorflow/stream_executor/cuda/cuda_gpu_executor.cc:975] successful NUMA node read from SysFS had negative value (-1), but there must be at least one NUMA node, so returning NUMA node zero\n",
      "2022-05-22 00:31:53.064933: I tensorflow/stream_executor/cuda/cuda_gpu_executor.cc:975] successful NUMA node read from SysFS had negative value (-1), but there must be at least one NUMA node, so returning NUMA node zero\n",
      "2022-05-22 00:31:53.065029: I tensorflow/core/common_runtime/gpu/gpu_device.cc:1532] Created device /job:localhost/replica:0/task:0/device:GPU:0 with 346 MB memory:  -> device: 0, name: NVIDIA GeForce RTX 2070 with Max-Q Design, pci bus id: 0000:01:00.0, compute capability: 7.5\n",
      "Writing weight file models/tfjs_model/prediction/model.json...\n"
     ]
    }
   ],
   "source": [
    "!tensorflowjs_converter \\\n",
    "    --input_format=tf_saved_model \\\n",
    "    --output_format=tfjs_graph_model \\\n",
    "    models/tf_model/prediction/ \\\n",
    "    models/tfjs_model/prediction/"
   ]
  },
  {
   "cell_type": "code",
   "execution_count": 13,
   "metadata": {},
   "outputs": [],
   "source": [
    "import json\n",
    "with open('models/tfjs_model/prediction/preprocessing.json','w') as f:\n",
    "    f.write(json.dumps(agg))"
   ]
  },
  {
   "cell_type": "code",
   "execution_count": 14,
   "metadata": {},
   "outputs": [
    {
     "name": "stdout",
     "output_type": "stream",
     "text": [
      "{\"Feature\": [{\"Class A\": 0.07614372724174703, \"Class B\": 0.08330041774579192, \"Class C\": 0.29269168665438516}, 0.22657014915515206]}\n"
     ]
    }
   ],
   "source": [
    "with open('models/tfjs_model/prediction/preprocessing.json','r') as f:\n",
    "    print(f.read())"
   ]
  }
 ],
 "metadata": {
  "interpreter": {
   "hash": "6febd6a6fde8e98f23e577c6299d0eac116e008af9a9b3334f01f78dac3f7371"
  },
  "kernelspec": {
   "display_name": "Python 3 (ipykernel)",
   "language": "python",
   "name": "python3"
  },
  "language_info": {
   "codemirror_mode": {
    "name": "ipython",
    "version": 3
   },
   "file_extension": ".py",
   "mimetype": "text/x-python",
   "name": "python",
   "nbconvert_exporter": "python",
   "pygments_lexer": "ipython3",
   "version": "3.7.13"
  }
 },
 "nbformat": 4,
 "nbformat_minor": 2
}
