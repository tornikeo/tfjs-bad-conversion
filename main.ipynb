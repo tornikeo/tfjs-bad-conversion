{
 "cells": [
  {
   "cell_type": "code",
   "execution_count": 1,
   "metadata": {},
   "outputs": [],
   "source": [
    "!pip install pandas numpy tensorflow tensorflowjs\n",
    "\n",
    "import pandas as pd\n",
    "import numpy as np\n",
    "import tensorflow as tf\n",
    "import tensorflow.keras as keras"
   ]
  },
  {
   "cell_type": "code",
   "execution_count": 3,
   "metadata": {},
   "outputs": [],
   "source": [
    "class TargetEncoding(keras.layers.Layer):\n",
    "    def __init__(self, **kwargs):\n",
    "        super().__init__(**kwargs) # Boilerplate\n",
    "        \n",
    "    def call(self, inputs):\n",
    "#         return self.norm(self.table.lookup(inputs))\n",
    "        return self.table.lookup(inputs)\n",
    "    \n",
    "    def compute_output_shape(self, input_shape):\n",
    "        return input_shape\n",
    "    \n",
    "#     def compute_output_signature()\n",
    "    def adapt(self, feature, target, \n",
    "              mean, var, default_value=-1):\n",
    "        self.keys = tf.constant(feature)\n",
    "        self.target = tf.constant(target)\n",
    "        self.table = tf.lookup.StaticHashTable(\n",
    "            tf.lookup.KeyValueTensorInitializer(self.keys,self.target),\n",
    "            default_value=default_value)\n",
    "#         self.norm = layers.Normalization(axis=None, \n",
    "#                                          mean=mean,\n",
    "#                                          variance=var)"
   ]
  },
  {
   "cell_type": "code",
   "execution_count": 9,
   "metadata": {},
   "outputs": [],
   "source": [
    "data = pd.DataFrame()\n",
    "data['Target'] = np.random.normal(0,1,(100,))\n",
    "data['Feature'] = [\"Class A\"] * 30 + [\"Class B\"] * 20 \\\n",
    "    + [\"Class C\"] * 50"
   ]
  },
  {
   "cell_type": "code",
   "execution_count": 19,
   "metadata": {},
   "outputs": [],
   "source": [
    "gr = data.groupby('Feature')['Target'].mean()\n",
    "targ_enc = TargetEncoding()\n",
    "targ_enc.adapt(\n",
    "    feature=gr.index,\n",
    "    target=gr.values,\n",
    "    mean=data.Target.mean(),\n",
    "    var=data.Target.var(),\n",
    "    default_value=data.Target.median(),\n",
    ")"
   ]
  },
  {
   "cell_type": "code",
   "execution_count": 25,
   "metadata": {},
   "outputs": [
    {
     "data": {
      "text/plain": [
       "<tf.Tensor: shape=(5, 1), dtype=float64, numpy=\n",
       "array([[0.31229785],\n",
       "       [0.31229785],\n",
       "       [0.31229785],\n",
       "       [0.31229785],\n",
       "       [0.31229785]])>"
      ]
     },
     "execution_count": 25,
     "metadata": {},
     "output_type": "execute_result"
    }
   ],
   "source": [
    "inputs = {\n",
    "    'feature': keras.Input(shape=(1,), dtype=tf.string, name='feature')\n",
    "}\n",
    "enc = targ_enc(inputs['feature'])\n",
    "model = keras.Model(inputs=inputs, outputs=enc)\n",
    "model(data.Feature.values)[:5]"
   ]
  },
  {
   "cell_type": "code",
   "execution_count": 28,
   "metadata": {},
   "outputs": [
    {
     "name": "stdout",
     "output_type": "stream",
     "text": [
      "INFO:tensorflow:Assets written to: models/tf_model/assets\n"
     ]
    }
   ],
   "source": [
    "tf.saved_model.save(model, 'models/tf_model/')"
   ]
  },
  {
   "cell_type": "code",
   "execution_count": 30,
   "metadata": {},
   "outputs": [
    {
     "name": "stdout",
     "output_type": "stream",
     "text": [
      "2022-05-18 22:48:24.168276: I tensorflow/stream_executor/cuda/cuda_gpu_executor.cc:975] successful NUMA node read from SysFS had negative value (-1), but there must be at least one NUMA node, so returning NUMA node zero\n",
      "2022-05-18 22:48:24.198042: I tensorflow/stream_executor/cuda/cuda_gpu_executor.cc:975] successful NUMA node read from SysFS had negative value (-1), but there must be at least one NUMA node, so returning NUMA node zero\n",
      "2022-05-18 22:48:24.198232: I tensorflow/stream_executor/cuda/cuda_gpu_executor.cc:975] successful NUMA node read from SysFS had negative value (-1), but there must be at least one NUMA node, so returning NUMA node zero\n",
      "2022-05-18 22:48:24.198575: I tensorflow/core/platform/cpu_feature_guard.cc:193] This TensorFlow binary is optimized with oneAPI Deep Neural Network Library (oneDNN) to use the following CPU instructions in performance-critical operations:  AVX2 FMA\n",
      "To enable them in other operations, rebuild TensorFlow with the appropriate compiler flags.\n",
      "2022-05-18 22:48:24.199113: I tensorflow/stream_executor/cuda/cuda_gpu_executor.cc:975] successful NUMA node read from SysFS had negative value (-1), but there must be at least one NUMA node, so returning NUMA node zero\n",
      "2022-05-18 22:48:24.199268: I tensorflow/stream_executor/cuda/cuda_gpu_executor.cc:975] successful NUMA node read from SysFS had negative value (-1), but there must be at least one NUMA node, so returning NUMA node zero\n",
      "2022-05-18 22:48:24.199441: I tensorflow/stream_executor/cuda/cuda_gpu_executor.cc:975] successful NUMA node read from SysFS had negative value (-1), but there must be at least one NUMA node, so returning NUMA node zero\n",
      "2022-05-18 22:48:24.541382: I tensorflow/stream_executor/cuda/cuda_gpu_executor.cc:975] successful NUMA node read from SysFS had negative value (-1), but there must be at least one NUMA node, so returning NUMA node zero\n",
      "2022-05-18 22:48:24.541553: I tensorflow/stream_executor/cuda/cuda_gpu_executor.cc:975] successful NUMA node read from SysFS had negative value (-1), but there must be at least one NUMA node, so returning NUMA node zero\n",
      "2022-05-18 22:48:24.541684: I tensorflow/stream_executor/cuda/cuda_gpu_executor.cc:975] successful NUMA node read from SysFS had negative value (-1), but there must be at least one NUMA node, so returning NUMA node zero\n",
      "2022-05-18 22:48:24.541802: I tensorflow/core/common_runtime/gpu/gpu_device.cc:1532] Created device /job:localhost/replica:0/task:0/device:GPU:0 with 10 MB memory:  -> device: 0, name: NVIDIA GeForce RTX 2070 with Max-Q Design, pci bus id: 0000:01:00.0, compute capability: 7.5\n",
      "2022-05-18 22:48:24.605191: I tensorflow/stream_executor/cuda/cuda_driver.cc:739] failed to allocate 10.44M (10944512 bytes) from device: CUDA_ERROR_OUT_OF_MEMORY: out of memory\n",
      "2022-05-18 22:48:24.605638: I tensorflow/stream_executor/cuda/cuda_driver.cc:739] failed to allocate 9.39M (9850112 bytes) from device: CUDA_ERROR_OUT_OF_MEMORY: out of memory\n",
      "2022-05-18 22:48:24.606071: I tensorflow/stream_executor/cuda/cuda_driver.cc:739] failed to allocate 8.45M (8865280 bytes) from device: CUDA_ERROR_OUT_OF_MEMORY: out of memory\n",
      "2022-05-18 22:48:24.606517: I tensorflow/stream_executor/cuda/cuda_driver.cc:739] failed to allocate 7.61M (7978752 bytes) from device: CUDA_ERROR_OUT_OF_MEMORY: out of memory\n",
      "2022-05-18 22:48:24.606969: I tensorflow/stream_executor/cuda/cuda_driver.cc:739] failed to allocate 6.85M (7181056 bytes) from device: CUDA_ERROR_OUT_OF_MEMORY: out of memory\n",
      "2022-05-18 22:48:24.607421: I tensorflow/stream_executor/cuda/cuda_driver.cc:739] failed to allocate 6.16M (6462976 bytes) from device: CUDA_ERROR_OUT_OF_MEMORY: out of memory\n",
      "2022-05-18 22:48:24.640960: I tensorflow/stream_executor/cuda/cuda_gpu_executor.cc:975] successful NUMA node read from SysFS had negative value (-1), but there must be at least one NUMA node, so returning NUMA node zero\n",
      "2022-05-18 22:48:24.641080: I tensorflow/core/grappler/devices.cc:66] Number of eligible GPUs (core count >= 8, compute capability >= 0.0): 1\n",
      "2022-05-18 22:48:24.641154: I tensorflow/core/grappler/clusters/single_machine.cc:358] Starting new session\n",
      "2022-05-18 22:48:24.641407: I tensorflow/stream_executor/cuda/cuda_gpu_executor.cc:975] successful NUMA node read from SysFS had negative value (-1), but there must be at least one NUMA node, so returning NUMA node zero\n",
      "2022-05-18 22:48:24.641542: I tensorflow/stream_executor/cuda/cuda_gpu_executor.cc:975] successful NUMA node read from SysFS had negative value (-1), but there must be at least one NUMA node, so returning NUMA node zero\n",
      "2022-05-18 22:48:24.641664: I tensorflow/stream_executor/cuda/cuda_gpu_executor.cc:975] successful NUMA node read from SysFS had negative value (-1), but there must be at least one NUMA node, so returning NUMA node zero\n",
      "2022-05-18 22:48:24.652494: I tensorflow/stream_executor/cuda/cuda_gpu_executor.cc:975] successful NUMA node read from SysFS had negative value (-1), but there must be at least one NUMA node, so returning NUMA node zero\n",
      "2022-05-18 22:48:24.652693: I tensorflow/stream_executor/cuda/cuda_gpu_executor.cc:975] successful NUMA node read from SysFS had negative value (-1), but there must be at least one NUMA node, so returning NUMA node zero\n",
      "2022-05-18 22:48:24.652802: I tensorflow/core/common_runtime/gpu/gpu_device.cc:1532] Created device /job:localhost/replica:0/task:0/device:GPU:0 with 10 MB memory:  -> device: 0, name: NVIDIA GeForce RTX 2070 with Max-Q Design, pci bus id: 0000:01:00.0, compute capability: 7.5\n",
      "Writing weight file models/tfjs_model/model.json...\n",
      "weight unknown_0 with shape () and dtype float64 was auto converted to the type float32\n"
     ]
    }
   ],
   "source": [
    "#     --signature_name=serving_default \\\n",
    "#     --control_flow_v2=True \\\n",
    "!tensorflowjs_converter \\\n",
    "    --input_format=tf_saved_model \\\n",
    "    --output_format=tfjs_graph_model \\\n",
    "    models/tf_model/ \\\n",
    "    models/tfjs_model/"
   ]
  }
 ],
 "metadata": {
  "interpreter": {
   "hash": "6febd6a6fde8e98f23e577c6299d0eac116e008af9a9b3334f01f78dac3f7371"
  },
  "kernelspec": {
   "display_name": "Python 3 (ipykernel)",
   "language": "python",
   "name": "python3"
  },
  "language_info": {
   "codemirror_mode": {
    "name": "ipython",
    "version": 3
   },
   "file_extension": ".py",
   "mimetype": "text/x-python",
   "name": "python",
   "nbconvert_exporter": "python",
   "pygments_lexer": "ipython3",
   "version": "3.7.13"
  }
 },
 "nbformat": 4,
 "nbformat_minor": 2
}
